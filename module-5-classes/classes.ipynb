{
 "cells": [
  {
   "cell_type": "code",
   "execution_count": null,
   "id": "initial_id",
   "metadata": {
    "collapsed": true
   },
   "outputs": [],
   "source": [
    "class Dog: \n",
    "    \"\"\"A simple class to represent a Dog. \"\"\"\n",
    "    def __init__(self, color):\n",
    "        self.color = color\n",
    "\n",
    "    def print_color(self): \n",
    "        print(f\"The dog is {self.color}.\")\n",
    "    \n",
    "    def speak(self): \n",
    "        print(\"Arf!\")\n",
    "        self.print_color()\n",
    "       \n",
    "       "
   ]
  },
  {
   "metadata": {},
   "cell_type": "code",
   "outputs": [],
   "execution_count": null,
   "source": "my_dog = Dog(\"gray\")\n",
   "id": "121977f95993bb0b"
  },
  {
   "metadata": {},
   "cell_type": "code",
   "outputs": [],
   "execution_count": null,
   "source": "print(f\"My dog is {my_dog.color}\")",
   "id": "48fa49aade14b87b"
  },
  {
   "metadata": {},
   "cell_type": "code",
   "outputs": [],
   "execution_count": null,
   "source": [
    "class Pet: \n",
    "    \"\"\"A Pet abstraction\"\"\"\n",
    "    def __init__(self, color):\n",
    "        self.color = color \n",
    "\n",
    "    def speak(self): \n",
    "        print(\"\")\n",
    "\n",
    "class Dog(Pet): \n",
    "    \"\"\"A dog, which is a Pet\"\"\"\n",
    "    def __init__(self, color): \n",
    "        super().__init__(color)\n",
    "\n",
    "    def speak(self): \n",
    "        print(\"Arf\")\n",
    "\n",
    "class Fish(Pet): \n",
    "    \"\"\" A Fish pet \"\"\"\n",
    "    def __init__(self, color): \n",
    "        super().__init__(color)\n",
    "\n",
    "class Husky(Dog): \n",
    "    def __init__(self): \n",
    "        super().__init__(\"Gray\")\n",
    "\n",
    "    # def speak(self): \n",
    "    #     print(\"Dubs says Go team!!\")\n",
    "       "
   ],
   "id": "e9a3bafa496a7a79"
  }
 ],
 "metadata": {
  "kernelspec": {
   "display_name": "Python 3",
   "language": "python",
   "name": "python3"
  },
  "language_info": {
   "codemirror_mode": {
    "name": "ipython",
    "version": 2
   },
   "file_extension": ".py",
   "mimetype": "text/x-python",
   "name": "python",
   "nbconvert_exporter": "python",
   "pygments_lexer": "ipython2",
   "version": "2.7.6"
  }
 },
 "nbformat": 4,
 "nbformat_minor": 5
}
