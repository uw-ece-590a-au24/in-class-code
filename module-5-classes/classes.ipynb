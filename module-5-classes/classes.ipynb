{
 "cells": [
  {
   "cell_type": "code",
   "execution_count": 29,
   "id": "initial_id",
   "metadata": {
    "ExecuteTime": {
     "end_time": "2024-10-22T22:56:38.353218Z",
     "start_time": "2024-10-22T22:56:38.346041Z"
    }
   },
   "outputs": [],
   "source": [
    "class Dog: \n",
    "    \"\"\"A simple class to represent a Dog. \"\"\"\n",
    "    def __init__(self, color):\n",
    "        print('Initializing my new dog')\n",
    "        self.color = color\n",
    "\n",
    "    def get_color(self): \n",
    "        return self.color\n",
    "\n",
    "    def set_color(self, new_color):\n",
    "        self.color = new_color\n",
    "    \n",
    "    def print_color(self): \n",
    "        print('Going to print the color of my dog')\n",
    "        print(f\"The dog is {self.color}.\")\n",
    "    \n",
    "    def speak(self): \n",
    "        print('going to ask my dog to speak')\n",
    "        print(\"Arf!\")\n",
    "        self.print_color()\n",
    "       \n",
    "       "
   ]
  },
  {
   "cell_type": "code",
   "execution_count": 26,
   "id": "121977f95993bb0b",
   "metadata": {},
   "outputs": [
    {
     "name": "stdout",
     "output_type": "stream",
     "text": [
      "Initializing my new dog\n"
     ]
    }
   ],
   "source": [
    "my_dog = Dog(\"gray\")\n"
   ]
  },
  {
   "cell_type": "code",
   "execution_count": 27,
   "id": "48fa49aade14b87b",
   "metadata": {},
   "outputs": [
    {
     "name": "stdout",
     "output_type": "stream",
     "text": [
      "My dog is gray\n"
     ]
    }
   ],
   "source": [
    "print(f\"My dog is {my_dog.color}\")"
   ]
  },
  {
   "cell_type": "code",
   "execution_count": 28,
   "id": "75577c5a-e0a3-4bc6-b12f-0fb6c127084c",
   "metadata": {},
   "outputs": [
    {
     "name": "stdout",
     "output_type": "stream",
     "text": [
      "Going to print the color of my dog\n",
      "The dog is golden.\n"
     ]
    }
   ],
   "source": [
    "my_dog.color = 'golden'\n",
    "my_dog.print_color()"
   ]
  },
  {
   "cell_type": "code",
   "execution_count": null,
   "id": "42aa8329-1e7d-4845-99d4-eb43882f49fd",
   "metadata": {},
   "outputs": [],
   "source": [
    "card_node['next'] = some_card"
   ]
  },
  {
   "cell_type": "code",
   "execution_count": 6,
   "id": "4ae1b85c-c330-4925-9c81-eaf83c427bdb",
   "metadata": {},
   "outputs": [
    {
     "name": "stdout",
     "output_type": "stream",
     "text": [
      "Going to print the color of my dog\n",
      "The dog is gray.\n"
     ]
    }
   ],
   "source": [
    "my_dog.print_color()"
   ]
  },
  {
   "cell_type": "code",
   "execution_count": 7,
   "id": "3f8f04e2-2f38-41c5-9b18-93a6c8e7be1e",
   "metadata": {},
   "outputs": [
    {
     "name": "stdout",
     "output_type": "stream",
     "text": [
      "going to ask my dog to speak\n",
      "Arf!\n",
      "Going to print the color of my dog\n",
      "The dog is gray.\n"
     ]
    }
   ],
   "source": [
    "my_dog.speak()"
   ]
  },
  {
   "cell_type": "code",
   "execution_count": null,
   "id": "62cdd3aa-256d-4d58-8954-2955c77aac60",
   "metadata": {},
   "outputs": [],
   "source": []
  },
  {
   "cell_type": "code",
   "execution_count": null,
   "id": "1393aaf0-a4b2-4e52-9d95-a820f14b09bb",
   "metadata": {},
   "outputs": [],
   "source": []
  },
  {
   "cell_type": "code",
   "execution_count": 23,
   "id": "e9a3bafa496a7a79",
   "metadata": {},
   "outputs": [],
   "source": [
    "class Pet: \n",
    "    \"\"\"A Pet abstraction\"\"\"\n",
    "    def __init__(self, color):\n",
    "        print('Creating a new pet!')\n",
    "        self.color = color \n",
    "\n",
    "    def speak(self): \n",
    "        print(\"\")\n",
    "\n",
    "class Dog(Pet): \n",
    "    \"\"\"A dog, which is a Pet\"\"\"\n",
    "    def __init__(self, color): \n",
    "        print('Creating a new dog!')\n",
    "        self.can_fetch = True\n",
    "        super().__init__(color)\n",
    "        print('All done creating the new dog')\n",
    "        print(self.can_fetch)\n",
    "\n",
    "    def speak(self): \n",
    "        print(\"Arf\")\n",
    "\n",
    "class GuineaPig(Pet): \n",
    "    def __init__(self):\n",
    "        super().__init__('black')\n",
    "\n",
    "    def speak(piggie):\n",
    "        print('Wheek')\n"
   ]
  },
  {
   "cell_type": "code",
   "execution_count": 24,
   "id": "4231c925-5d1d-42f9-9dd1-69c9e607e12e",
   "metadata": {},
   "outputs": [
    {
     "name": "stdout",
     "output_type": "stream",
     "text": [
      "Creating a new dog!\n",
      "Creating a new pet!\n",
      "All done creating the new dog\n",
      "True\n"
     ]
    }
   ],
   "source": [
    "dubs = Dog('gray')"
   ]
  },
  {
   "cell_type": "code",
   "execution_count": 31,
   "id": "9e1af2e1-1760-4fb9-9a05-c2ebec3c4a79",
   "metadata": {},
   "outputs": [
    {
     "data": {
      "text/plain": [
       "True"
      ]
     },
     "execution_count": 31,
     "metadata": {},
     "output_type": "execute_result"
    }
   ],
   "source": [
    "dubs.can_fetch\n"
   ]
  },
  {
   "cell_type": "code",
   "execution_count": 13,
   "id": "52b78d6d-edb8-469a-ae40-4dfa006ac8d3",
   "metadata": {},
   "outputs": [
    {
     "name": "stdout",
     "output_type": "stream",
     "text": [
      "Creating a new pet!\n",
      "\n"
     ]
    }
   ],
   "source": [
    "my_pet = Pet('orange')\n",
    "my_pet.speak()"
   ]
  },
  {
   "cell_type": "code",
   "execution_count": 21,
   "id": "b311cc7a-51b4-4c31-8055-81894ef4cc55",
   "metadata": {},
   "outputs": [
    {
     "name": "stdout",
     "output_type": "stream",
     "text": [
      "Creating a new pet!\n",
      "Wheek\n"
     ]
    }
   ],
   "source": [
    "papi = GuineaPig()\n",
    "papi.speak()"
   ]
  },
  {
   "cell_type": "code",
   "execution_count": 30,
   "id": "adfaae39-74fb-440b-a80e-be5b1c7df76e",
   "metadata": {},
   "outputs": [
    {
     "ename": "AttributeError",
     "evalue": "'GuineaPig' object has no attribute 'can_fetch'",
     "output_type": "error",
     "traceback": [
      "\u001b[0;31m---------------------------------------------------------------------------\u001b[0m",
      "\u001b[0;31mAttributeError\u001b[0m                            Traceback (most recent call last)",
      "Cell \u001b[0;32mIn[30], line 1\u001b[0m\n\u001b[0;32m----> 1\u001b[0m \u001b[43mpapi\u001b[49m\u001b[38;5;241;43m.\u001b[39;49m\u001b[43mcan_fetch\u001b[49m\n",
      "\u001b[0;31mAttributeError\u001b[0m: 'GuineaPig' object has no attribute 'can_fetch'"
     ]
    }
   ],
   "source": [
    "papi.can_fetch"
   ]
  },
  {
   "cell_type": "code",
   "execution_count": null,
   "id": "761143ea-b588-4c60-b057-e8a2fa2d82ef",
   "metadata": {},
   "outputs": [],
   "source": []
  }
 ],
 "metadata": {
  "kernelspec": {
   "display_name": "Python 3 (ipykernel)",
   "language": "python",
   "name": "python3"
  },
  "language_info": {
   "codemirror_mode": {
    "name": "ipython",
    "version": 3
   },
   "file_extension": ".py",
   "mimetype": "text/x-python",
   "name": "python",
   "nbconvert_exporter": "python",
   "pygments_lexer": "ipython3",
   "version": "3.9.7"
  }
 },
 "nbformat": 4,
 "nbformat_minor": 5
}
